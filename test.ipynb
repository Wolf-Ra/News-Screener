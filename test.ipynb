{
 "cells": [
  {
   "cell_type": "code",
   "execution_count": null,
   "metadata": {},
   "outputs": [],
   "source": [
    "from gnews import GNews\n",
    "gnews = GNews()\n",
    "news_document = []\n",
    "# Temporarily hardcode a different category for testing, e.g., \"Finance\"\n",
    "news = gnews.get_news(\"Finance\")  # Hardcode for testing\n",
    "    \n",
    "for article in news:\n",
    "    news_document = {\n",
    "        'title': article['title'],\n",
    "        'description': article['description'],\n",
    "        'content': article.get('content', ''),\n",
    "        'publishedAt': article['published date'],\n",
    "        'source': article['publisher']['title'],\n",
    "        'link': article['url'],\n",
    "        'image': article.get('image', ''),\n",
    "        'category': \"Finance\" # Use the original category\n",
    "    }\n",
    "news_document\n"
   ]
  }
 ],
 "metadata": {
  "kernelspec": {
   "display_name": "Python 3",
   "language": "python",
   "name": "python3"
  },
  "language_info": {
   "codemirror_mode": {
    "name": "ipython",
    "version": 3
   },
   "file_extension": ".py",
   "mimetype": "text/x-python",
   "name": "python",
   "nbconvert_exporter": "python",
   "pygments_lexer": "ipython3",
   "version": "3.12.5"
  }
 },
 "nbformat": 4,
 "nbformat_minor": 2
}
